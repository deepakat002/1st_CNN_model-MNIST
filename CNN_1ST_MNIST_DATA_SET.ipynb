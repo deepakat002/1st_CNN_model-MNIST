{
  "nbformat": 4,
  "nbformat_minor": 0,
  "metadata": {
    "colab": {
      "name": "CNN 1ST MNIST DATA SET.ipynb",
      "provenance": []
    },
    "kernelspec": {
      "name": "python3",
      "display_name": "Python 3"
    },
    "accelerator": "GPU"
  },
  "cells": [
    {
      "cell_type": "code",
      "metadata": {
        "id": "9rcQ5Jvkccuu",
        "colab_type": "code",
        "colab": {}
      },
      "source": [
        "#importing required libraries\n",
        "import warnings\n",
        "warnings.filterwarnings('ignore')\n",
        " \n",
        "import numpy as np\n",
        "import pandas as pd\n",
        " \n",
        "import matplotlib.pyplot as plt\n",
        "import seaborn as sns\n",
        " \n",
        "from sklearn.model_selection import train_test_split\n",
        " \n",
        "import keras\n",
        "from keras.models import Sequential\n",
        "from keras.layers import Conv2D, MaxPool2D, Dense, Dropout, Flatten\n",
        "from keras.datasets import mnist\n",
        "from keras.optimizers import Adam"
      ],
      "execution_count": null,
      "outputs": []
    },
    {
      "cell_type": "code",
      "metadata": {
        "id": "lPsrUaCRcsgi",
        "colab_type": "code",
        "colab": {
          "base_uri": "https://localhost:8080/",
          "height": 908
        },
        "outputId": "8a899f3e-9089-40e6-bc30-7f72c2e68374"
      },
      "source": [
        "#loading data \n",
        "(X_train,y_train), (X_test,y_test) = mnist.load_data()\n",
        "\n",
        "X_train"
      ],
      "execution_count": null,
      "outputs": [
        {
          "output_type": "stream",
          "text": [
            "Downloading data from https://storage.googleapis.com/tensorflow/tf-keras-datasets/mnist.npz\n",
            "11493376/11490434 [==============================] - 1s 0us/step\n"
          ],
          "name": "stdout"
        },
        {
          "output_type": "execute_result",
          "data": {
            "text/plain": [
              "array([[[0, 0, 0, ..., 0, 0, 0],\n",
              "        [0, 0, 0, ..., 0, 0, 0],\n",
              "        [0, 0, 0, ..., 0, 0, 0],\n",
              "        ...,\n",
              "        [0, 0, 0, ..., 0, 0, 0],\n",
              "        [0, 0, 0, ..., 0, 0, 0],\n",
              "        [0, 0, 0, ..., 0, 0, 0]],\n",
              "\n",
              "       [[0, 0, 0, ..., 0, 0, 0],\n",
              "        [0, 0, 0, ..., 0, 0, 0],\n",
              "        [0, 0, 0, ..., 0, 0, 0],\n",
              "        ...,\n",
              "        [0, 0, 0, ..., 0, 0, 0],\n",
              "        [0, 0, 0, ..., 0, 0, 0],\n",
              "        [0, 0, 0, ..., 0, 0, 0]],\n",
              "\n",
              "       [[0, 0, 0, ..., 0, 0, 0],\n",
              "        [0, 0, 0, ..., 0, 0, 0],\n",
              "        [0, 0, 0, ..., 0, 0, 0],\n",
              "        ...,\n",
              "        [0, 0, 0, ..., 0, 0, 0],\n",
              "        [0, 0, 0, ..., 0, 0, 0],\n",
              "        [0, 0, 0, ..., 0, 0, 0]],\n",
              "\n",
              "       ...,\n",
              "\n",
              "       [[0, 0, 0, ..., 0, 0, 0],\n",
              "        [0, 0, 0, ..., 0, 0, 0],\n",
              "        [0, 0, 0, ..., 0, 0, 0],\n",
              "        ...,\n",
              "        [0, 0, 0, ..., 0, 0, 0],\n",
              "        [0, 0, 0, ..., 0, 0, 0],\n",
              "        [0, 0, 0, ..., 0, 0, 0]],\n",
              "\n",
              "       [[0, 0, 0, ..., 0, 0, 0],\n",
              "        [0, 0, 0, ..., 0, 0, 0],\n",
              "        [0, 0, 0, ..., 0, 0, 0],\n",
              "        ...,\n",
              "        [0, 0, 0, ..., 0, 0, 0],\n",
              "        [0, 0, 0, ..., 0, 0, 0],\n",
              "        [0, 0, 0, ..., 0, 0, 0]],\n",
              "\n",
              "       [[0, 0, 0, ..., 0, 0, 0],\n",
              "        [0, 0, 0, ..., 0, 0, 0],\n",
              "        [0, 0, 0, ..., 0, 0, 0],\n",
              "        ...,\n",
              "        [0, 0, 0, ..., 0, 0, 0],\n",
              "        [0, 0, 0, ..., 0, 0, 0],\n",
              "        [0, 0, 0, ..., 0, 0, 0]]], dtype=uint8)"
            ]
          },
          "metadata": {
            "tags": []
          },
          "execution_count": 2
        }
      ]
    },
    {
      "cell_type": "code",
      "metadata": {
        "id": "wZfvbPWw9Zpg",
        "colab_type": "code",
        "colab": {
          "base_uri": "https://localhost:8080/",
          "height": 34
        },
        "outputId": "ce313586-ee7d-4ba8-8657-8dd6847f7aaa"
      },
      "source": [
        "#checking shape\n",
        "X_train.shape"
      ],
      "execution_count": null,
      "outputs": [
        {
          "output_type": "execute_result",
          "data": {
            "text/plain": [
              "(60000, 28, 28)"
            ]
          },
          "metadata": {
            "tags": []
          },
          "execution_count": 3
        }
      ]
    },
    {
      "cell_type": "code",
      "metadata": {
        "id": "SUk94HTug-Un",
        "colab_type": "code",
        "colab": {
          "base_uri": "https://localhost:8080/",
          "height": 34
        },
        "outputId": "e770d137-a242-4271-bb20-b557378c8743"
      },
      "source": [
        "#First image\n",
        "\n",
        "X_train[0].shape # sp images are of 28 x 28 pixel greyscale "
      ],
      "execution_count": null,
      "outputs": [
        {
          "output_type": "execute_result",
          "data": {
            "text/plain": [
              "(28, 28)"
            ]
          },
          "metadata": {
            "tags": []
          },
          "execution_count": 4
        }
      ]
    },
    {
      "cell_type": "code",
      "metadata": {
        "id": "CvU4zGgMhE8P",
        "colab_type": "code",
        "colab": {
          "base_uri": "https://localhost:8080/",
          "height": 1000
        },
        "outputId": "b6e7668f-168b-4490-9eac-17c417cdd9d6"
      },
      "source": [
        "#Printing first 10 images\n",
        "\n",
        "for image in range(10):\n",
        "  plt.imshow(X_train[image],cmap = 'Greys')\n",
        "  plt.show()"
      ],
      "execution_count": null,
      "outputs": [
        {
          "output_type": "display_data",
          "data": {
            "image/png": "[encoded data removed]",
            "text/plain": [
              "<Figure size 432x288 with 1 Axes>"
            ]
          },
          "metadata": {
            "tags": [],
            "needs_background": "light"
          }
        },
        {
          "output_type": "display_data",
          "data": {
            "image/png": "[encoded data removed]",
            "text/plain": [
              "<Figure size 432x288 with 1 Axes>"
            ]
          },
          "metadata": {
            "tags": [],
            "needs_background": "light"
          }
        },
        {
          "output_type": "display_data",
          "data": {
            "image/png": "[encoded data removed]",
            "text/plain": [
              "<Figure size 432x288 with 1 Axes>"
            ]
          },
          "metadata": {
            "tags": [],
            "needs_background": "light"
          }
        },
        {
          "output_type": "display_data",
          "data": {
            "image/png": "[encoded data removed]",
            "text/plain": [
              "<Figure size 432x288 with 1 Axes>"
            ]
          },
          "metadata": {
            "tags": [],
            "needs_background": "light"
          }
        },
        {
          "output_type": "display_data",
          "data": {
            "image/png": "[encoded data removed]",
            "text/plain": [
              "<Figure size 432x288 with 1 Axes>"
            ]
          },
          "metadata": {
            "tags": [],
            "needs_background": "light"
          }
        },
        {
          "output_type": "display_data",
          "data": {
            "image/png": "[encoded data removed]",
            "text/plain": [
              "<Figure size 432x288 with 1 Axes>"
            ]
          },
          "metadata": {
            "tags": [],
            "needs_background": "light"
          }
        },
        {
          "output_type": "display_data",
          "data": {
            "image/png": "[encoded data removed]",
            "text/plain": [
              "<Figure size 432x288 with 1 Axes>"
            ]
          },
          "metadata": {
            "tags": [],
            "needs_background": "light"
          }
        },
        {
          "output_type": "display_data",
          "data": {
            "image/png": "[encoded data removed]",
            "text/plain": [
              "<Figure size 432x288 with 1 Axes>"
            ]
          },
          "metadata": {
            "tags": [],
            "needs_background": "light"
          }
        },
        {
          "output_type": "display_data",
          "data": {
            "image/png": "[encoded data removed]",
            "text/plain": [
              "<Figure size 432x288 with 1 Axes>"
            ]
          },
          "metadata": {
            "tags": [],
            "needs_background": "light"
          }
        },
        {
          "output_type": "display_data",
          "data": {
            "image/png": "[encoded data removed]",
            "text/plain": [
              "<Figure size 432x288 with 1 Axes>"
            ]
          },
          "metadata": {
            "tags": [],
            "needs_background": "light"
          }
        }
      ]
    },
    {
      "cell_type": "code",
      "metadata": {
        "id": "k7x8MT0xiOFp",
        "colab_type": "code",
        "colab": {
          "base_uri": "https://localhost:8080/",
          "height": 71
        },
        "outputId": "044c58d3-4a8c-4a48-d6e6-43494883e321"
      },
      "source": [
        "#Shape\n",
        "\n",
        "print('X_train shape : {} and y_train shape : {}'.format(X_train.shape,y_train.shape))\n",
        "\n",
        "print('X_test shape : {} and y_test shape : {}'.format(X_test.shape,y_test.shape))"
      ],
      "execution_count": null,
      "outputs": [
        {
          "output_type": "stream",
          "text": [
            "X_train shape : (60000, 28, 28) and y_train shape : (60000,)\n",
            "X_test shape : (10000, 28, 28) and y_test shape : (10000,)\n"
          ],
          "name": "stdout"
        }
      ]
    },
    {
      "cell_type": "markdown",
      "metadata": {
        "id": "Ym3V4vdmkd2z",
        "colab_type": "text"
      },
      "source": [
        "Our CNN models required the input shape to be in the form of (H,W,c) format\n",
        "\n",
        "so Let's take an image of 28 x 28 pixels\n",
        "\n",
        "we have to reshape this into  ----> 28 x 28 x 1 ( grey scale image)\n",
        "                              ----> 28 x 28 x 3 ( for color image)"
      ]
    },
    {
      "cell_type": "code",
      "metadata": {
        "id": "SMKIYywkjrDV",
        "colab_type": "code",
        "colab": {
          "base_uri": "https://localhost:8080/",
          "height": 34
        },
        "outputId": "c4ea51df-1b84-4918-89d6-abae3fea0b6f"
      },
      "source": [
        "img_h, img_w = 28,28\n",
        "\n",
        "input_shape = (img_h, img_w, 1) # for grey scale\n",
        "\n",
        "# Reshapping the train and test data\n",
        "\n",
        "X_train = X_train.reshape(X_train.shape[0],img_h,img_w, 1)\n",
        "X_test  = X_test.reshape(X_test.shape[0],img_h,img_w,1)\n",
        "\n",
        "X_train.shape"
      ],
      "execution_count": null,
      "outputs": [
        {
          "output_type": "execute_result",
          "data": {
            "text/plain": [
              "(60000, 28, 28, 1)"
            ]
          },
          "metadata": {
            "tags": []
          },
          "execution_count": 7
        }
      ]
    },
    {
      "cell_type": "code",
      "metadata": {
        "id": "bGtrozU2lulY",
        "colab_type": "code",
        "colab": {
          "base_uri": "https://localhost:8080/",
          "height": 34
        },
        "outputId": "9b92f96c-2422-468e-abb4-ae79836eecdb"
      },
      "source": [
        "y_train.shape"
      ],
      "execution_count": null,
      "outputs": [
        {
          "output_type": "execute_result",
          "data": {
            "text/plain": [
              "(60000,)"
            ]
          },
          "metadata": {
            "tags": []
          },
          "execution_count": 8
        }
      ]
    },
    {
      "cell_type": "code",
      "metadata": {
        "id": "W5DYHKA6QuWc",
        "colab_type": "code",
        "colab": {
          "base_uri": "https://localhost:8080/",
          "height": 34
        },
        "outputId": "47dc6539-71c0-4987-c107-242af77ab2df"
      },
      "source": [
        "y_train[0]"
      ],
      "execution_count": null,
      "outputs": [
        {
          "output_type": "execute_result",
          "data": {
            "text/plain": [
              "5"
            ]
          },
          "metadata": {
            "tags": []
          },
          "execution_count": 9
        }
      ]
    },
    {
      "cell_type": "markdown",
      "metadata": {
        "id": "-lOP0P1ll7MQ",
        "colab_type": "text"
      },
      "source": [
        "WE have to convert this y from 1D array from (60000,) to (60000,10) where each class is present as one hot encoded vector"
      ]
    },
    {
      "cell_type": "code",
      "metadata": {
        "id": "3a9FLKbbl1cJ",
        "colab_type": "code",
        "colab": {
          "base_uri": "https://localhost:8080/",
          "height": 156
        },
        "outputId": "899ec270-febf-4481-cfb3-3e25debf4cfd"
      },
      "source": [
        "#creating one-hot-encoding\n",
        "num_classes = 10\n",
        "\n",
        "y_train = keras.utils.to_categorical(y_train, num_classes)\n",
        "y_test = keras.utils.to_categorical(y_test, num_classes)\n",
        "\n",
        "y_train"
      ],
      "execution_count": null,
      "outputs": [
        {
          "output_type": "execute_result",
          "data": {
            "text/plain": [
              "array([[0., 0., 0., ..., 0., 0., 0.],\n",
              "       [1., 0., 0., ..., 0., 0., 0.],\n",
              "       [0., 0., 0., ..., 0., 0., 0.],\n",
              "       ...,\n",
              "       [0., 0., 0., ..., 0., 0., 0.],\n",
              "       [0., 0., 0., ..., 0., 0., 0.],\n",
              "       [0., 0., 0., ..., 0., 1., 0.]], dtype=float32)"
            ]
          },
          "metadata": {
            "tags": []
          },
          "execution_count": 10
        }
      ]
    },
    {
      "cell_type": "code",
      "metadata": {
        "id": "bPiXjpcUm17G",
        "colab_type": "code",
        "colab": {
          "base_uri": "https://localhost:8080/",
          "height": 34
        },
        "outputId": "6efacf5f-6aef-4e6d-9e80-56936f3a0b14"
      },
      "source": [
        "y_train.shape"
      ],
      "execution_count": null,
      "outputs": [
        {
          "output_type": "execute_result",
          "data": {
            "text/plain": [
              "(60000, 10)"
            ]
          },
          "metadata": {
            "tags": []
          },
          "execution_count": 11
        }
      ]
    },
    {
      "cell_type": "code",
      "metadata": {
        "id": "krmUmByLQ7cN",
        "colab_type": "code",
        "colab": {
          "base_uri": "https://localhost:8080/",
          "height": 54
        },
        "outputId": "c0eaa93f-05e7-47a9-cc6b-2b2a5231189a"
      },
      "source": [
        "y_train[0]"
      ],
      "execution_count": null,
      "outputs": [
        {
          "output_type": "execute_result",
          "data": {
            "text/plain": [
              "array([0., 0., 0., 0., 0., 1., 0., 0., 0., 0.], dtype=float32)"
            ]
          },
          "metadata": {
            "tags": []
          },
          "execution_count": 12
        }
      ]
    },
    {
      "cell_type": "markdown",
      "metadata": {
        "id": "y_jgeOCvp9ES",
        "colab_type": "text"
      },
      "source": [
        "Why do we normalize and give input as float type insted of integer ?\n",
        "\n",
        "For all weights and neuron activations, if you are using a method based on backpropagation for training updates, then you need a data type that approximates real numbers, so that you can apply fractional updates based on differentiation. Best weight values are often going to be fractional, non-whole numbers. Non-linearities such as sigmoid are also going to output floats. So after the input layer you have matrices of float values anyway. There is not much speed advantage multiplying integer matrix with float one (possibly even slightly slower, depending on type casting mechanism). So the input may as well be float.\n",
        "\n",
        "In addition, for efficient training, the neural network inputs should be normalised to a specific roughly unit range (-1.0 to 1.0) or to mean 0, standard deviation 1.0. Both of these require float representation. If you have input data in 0-255 range - float or not - you will usually find the network will learn less effectively."
      ]
    },
    {
      "cell_type": "code",
      "metadata": {
        "id": "AYawQIpBm7HC",
        "colab_type": "code",
        "colab": {}
      },
      "source": [
        "#Change to integer to floats \n",
        "\n",
        "X_train  = X_train.astype('float32')\n",
        "X_test = X_test.astype('float32')\n",
        "\n",
        "\n",
        "# Normalize\n",
        "X_train /= 255\n",
        "X_test /= 255"
      ],
      "execution_count": null,
      "outputs": []
    },
    {
      "cell_type": "code",
      "metadata": {
        "id": "Xf7g4x5yx50J",
        "colab_type": "code",
        "colab": {
          "base_uri": "https://localhost:8080/",
          "height": 34
        },
        "outputId": "6a2ff155-6c91-4936-89eb-635b82cfa3fc"
      },
      "source": [
        "# Creating validation data \n",
        "\n",
        "X_train,X_vali,y_train , y_vali = train_test_split(X_train,y_train, train_size = 0.8, random_state =100)\n",
        "\n",
        "X_vali.shape"
      ],
      "execution_count": null,
      "outputs": [
        {
          "output_type": "execute_result",
          "data": {
            "text/plain": [
              "(12000, 28, 28, 1)"
            ]
          },
          "metadata": {
            "tags": []
          },
          "execution_count": 14
        }
      ]
    },
    {
      "cell_type": "code",
      "metadata": {
        "id": "JLgCTILCynbv",
        "colab_type": "code",
        "colab": {
          "base_uri": "https://localhost:8080/",
          "height": 34
        },
        "outputId": "09244ad8-4fcb-44f6-cee8-d9653334d400"
      },
      "source": [
        "X_train.shape"
      ],
      "execution_count": null,
      "outputs": [
        {
          "output_type": "execute_result",
          "data": {
            "text/plain": [
              "(48000, 28, 28, 1)"
            ]
          },
          "metadata": {
            "tags": []
          },
          "execution_count": 15
        }
      ]
    },
    {
      "cell_type": "markdown",
      "metadata": {
        "id": "vPRVeDzdsjUk",
        "colab_type": "text"
      },
      "source": [
        "BUILDING MODEL"
      ]
    },
    {
      "cell_type": "code",
      "metadata": {
        "id": "mNXWgze9tNFR",
        "colab_type": "code",
        "colab": {}
      },
      "source": [
        "# help(Conv2D)"
      ],
      "execution_count": null,
      "outputs": []
    },
    {
      "cell_type": "code",
      "metadata": {
        "id": "Vm7Imo9-m_yH",
        "colab_type": "code",
        "colab": {
          "base_uri": "https://localhost:8080/",
          "height": 481
        },
        "outputId": "07cfa17f-8c07-4ab1-94de-2c7ee5c9a682"
      },
      "source": [
        "#We are building a simple CNN network\n",
        "\n",
        "model = Sequential()\n",
        "\n",
        "#adding first Conv2D layer + MaxPooling \n",
        "model.add(Conv2D(64, kernel_size=(3,3),padding='same', strides= 1, activation = 'relu', input_shape= input_shape))\n",
        "model.add(MaxPool2D(pool_size = (2,2)))\n",
        "\n",
        "#adding second Conv2D layer + MaxPooling \n",
        "model.add(Conv2D(128, kernel_size=(3,3),padding='same', strides= 1, activation = 'relu'))\n",
        "model.add(MaxPool2D(pool_size = (2,2)))\n",
        "model.add(Dropout(0.25)) # adding dropout\n",
        "\n",
        "model.add(Flatten()) # Flattening the output so that it can be fed into the classifier\n",
        "\n",
        "model.add(Dense(128, activation ='relu'))\n",
        "model.add(Dropout(0.25))\n",
        "\n",
        "model.add(Dense(num_classes, activation='softmax'))\n",
        "\n",
        "model.compile(loss = 'categorical_crossentropy',\n",
        "              optimizer = 'adam',\n",
        "              metrics = ['accuracy'])\n",
        "\n",
        "model.summary()\n",
        "\n"
      ],
      "execution_count": null,
      "outputs": [
        {
          "output_type": "stream",
          "text": [
            "Model: \"sequential\"\n",
            "_________________________________________________________________\n",
            "Layer (type)                 Output Shape              Param #   \n",
            "=================================================================\n",
            "conv2d (Conv2D)              (None, 28, 28, 64)        640       \n",
            "_________________________________________________________________\n",
            "max_pooling2d (MaxPooling2D) (None, 14, 14, 64)        0         \n",
            "_________________________________________________________________\n",
            "conv2d_1 (Conv2D)            (None, 14, 14, 128)       73856     \n",
            "_________________________________________________________________\n",
            "max_pooling2d_1 (MaxPooling2 (None, 7, 7, 128)         0         \n",
            "_________________________________________________________________\n",
            "dropout (Dropout)            (None, 7, 7, 128)         0         \n",
            "_________________________________________________________________\n",
            "flatten (Flatten)            (None, 6272)              0         \n",
            "_________________________________________________________________\n",
            "dense (Dense)                (None, 128)               802944    \n",
            "_________________________________________________________________\n",
            "dropout_1 (Dropout)          (None, 128)               0         \n",
            "_________________________________________________________________\n",
            "dense_1 (Dense)              (None, 10)                1290      \n",
            "=================================================================\n",
            "Total params: 878,730\n",
            "Trainable params: 878,730\n",
            "Non-trainable params: 0\n",
            "_________________________________________________________________\n"
          ],
          "name": "stdout"
        }
      ]
    },
    {
      "cell_type": "code",
      "metadata": {
        "id": "ojyOmKK9w9oy",
        "colab_type": "code",
        "colab": {
          "base_uri": "https://localhost:8080/",
          "height": 755
        },
        "outputId": "97d19ffc-787b-4f9a-a0d9-6c0e8d27843e"
      },
      "source": [
        "batch_size = 200\n",
        "epochs = 20\n",
        "\n",
        "model.fit(X_train,y_train, batch_size = batch_size, epochs = epochs, verbose = 1,\n",
        "          validation_data = (X_vali,y_vali))\n"
      ],
      "execution_count": null,
      "outputs": [
        {
          "output_type": "stream",
          "text": [
            "Epoch 1/20\n",
            "235/240 [============================>.] - ETA: 0s - loss: 0.2594 - accuracy: 0.9203WARNING:tensorflow:Callbacks method `on_test_batch_end` is slow compared to the batch time (batch time: 0.0015s vs `on_test_batch_end` time: 0.0025s). Check your callbacks.\n",
            "240/240 [==============================] - 2s 8ms/step - loss: 0.2563 - accuracy: 0.9213 - val_loss: 0.0758 - val_accuracy: 0.9773\n",
            "Epoch 2/20\n",
            "240/240 [==============================] - 2s 7ms/step - loss: 0.0722 - accuracy: 0.9777 - val_loss: 0.0497 - val_accuracy: 0.9847\n",
            "Epoch 3/20\n",
            "240/240 [==============================] - 2s 7ms/step - loss: 0.0500 - accuracy: 0.9846 - val_loss: 0.0402 - val_accuracy: 0.9882\n",
            "Epoch 4/20\n",
            "240/240 [==============================] - 2s 7ms/step - loss: 0.0394 - accuracy: 0.9878 - val_loss: 0.0376 - val_accuracy: 0.9883\n",
            "Epoch 5/20\n",
            "240/240 [==============================] - 2s 7ms/step - loss: 0.0335 - accuracy: 0.9898 - val_loss: 0.0319 - val_accuracy: 0.9900\n",
            "Epoch 6/20\n",
            "240/240 [==============================] - 2s 8ms/step - loss: 0.0271 - accuracy: 0.9915 - val_loss: 0.0320 - val_accuracy: 0.9912\n",
            "Epoch 7/20\n",
            "240/240 [==============================] - 2s 7ms/step - loss: 0.0251 - accuracy: 0.9918 - val_loss: 0.0311 - val_accuracy: 0.9907\n",
            "Epoch 8/20\n",
            "240/240 [==============================] - 2s 7ms/step - loss: 0.0232 - accuracy: 0.9924 - val_loss: 0.0323 - val_accuracy: 0.9908\n",
            "Epoch 9/20\n",
            "240/240 [==============================] - 2s 7ms/step - loss: 0.0178 - accuracy: 0.9943 - val_loss: 0.0369 - val_accuracy: 0.9897\n",
            "Epoch 10/20\n",
            "240/240 [==============================] - 2s 7ms/step - loss: 0.0175 - accuracy: 0.9942 - val_loss: 0.0284 - val_accuracy: 0.9918\n",
            "Epoch 11/20\n",
            "240/240 [==============================] - 2s 8ms/step - loss: 0.0140 - accuracy: 0.9949 - val_loss: 0.0334 - val_accuracy: 0.9909\n",
            "Epoch 12/20\n",
            "240/240 [==============================] - 2s 7ms/step - loss: 0.0144 - accuracy: 0.9951 - val_loss: 0.0284 - val_accuracy: 0.9922\n",
            "Epoch 13/20\n",
            "240/240 [==============================] - 2s 8ms/step - loss: 0.0111 - accuracy: 0.9961 - val_loss: 0.0355 - val_accuracy: 0.9908\n",
            "Epoch 14/20\n",
            "240/240 [==============================] - 2s 8ms/step - loss: 0.0124 - accuracy: 0.9959 - val_loss: 0.0334 - val_accuracy: 0.9915\n",
            "Epoch 15/20\n",
            "240/240 [==============================] - 2s 8ms/step - loss: 0.0111 - accuracy: 0.9963 - val_loss: 0.0266 - val_accuracy: 0.9931\n",
            "Epoch 16/20\n",
            "240/240 [==============================] - 2s 8ms/step - loss: 0.0094 - accuracy: 0.9967 - val_loss: 0.0272 - val_accuracy: 0.9923\n",
            "Epoch 17/20\n",
            "240/240 [==============================] - 2s 7ms/step - loss: 0.0104 - accuracy: 0.9962 - val_loss: 0.0294 - val_accuracy: 0.9917\n",
            "Epoch 18/20\n",
            "240/240 [==============================] - 2s 7ms/step - loss: 0.0078 - accuracy: 0.9973 - val_loss: 0.0304 - val_accuracy: 0.9923\n",
            "Epoch 19/20\n",
            "240/240 [==============================] - 2s 7ms/step - loss: 0.0082 - accuracy: 0.9972 - val_loss: 0.0307 - val_accuracy: 0.9919\n",
            "Epoch 20/20\n",
            "240/240 [==============================] - 2s 7ms/step - loss: 0.0086 - accuracy: 0.9971 - val_loss: 0.0334 - val_accuracy: 0.9924\n"
          ],
          "name": "stdout"
        },
        {
          "output_type": "execute_result",
          "data": {
            "text/plain": [
              "<tensorflow.python.keras.callbacks.History at 0x7f0f76088d68>"
            ]
          },
          "metadata": {
            "tags": []
          },
          "execution_count": 18
        }
      ]
    },
    {
      "cell_type": "code",
      "metadata": {
        "id": "lZ1gDFvmyp6G",
        "colab_type": "code",
        "colab": {
          "base_uri": "https://localhost:8080/",
          "height": 71
        },
        "outputId": "8e0d82f8-d5e6-4dc6-91c5-e8702945e396"
      },
      "source": [
        "model.evaluate(X_test,y_test)"
      ],
      "execution_count": null,
      "outputs": [
        {
          "output_type": "stream",
          "text": [
            "313/313 [==============================] - 1s 2ms/step - loss: 0.0282 - accuracy: 0.9928\n"
          ],
          "name": "stdout"
        },
        {
          "output_type": "execute_result",
          "data": {
            "text/plain": [
              "[0.028192710131406784, 0.9927999973297119]"
            ]
          },
          "metadata": {
            "tags": []
          },
          "execution_count": 19
        }
      ]
    },
    {
      "cell_type": "code",
      "metadata": {
        "id": "SeCltioh3jM-",
        "colab_type": "code",
        "colab": {
          "base_uri": "https://localhost:8080/",
          "height": 550
        },
        "outputId": "b7591463-8f56-4b4f-9835-d6741a401087"
      },
      "source": [
        "prediction = model.predict(X_test[0:10])\n",
        "prediction"
      ],
      "execution_count": null,
      "outputs": [
        {
          "output_type": "execute_result",
          "data": {
            "text/plain": [
              "array([[5.45488405e-13, 4.05273426e-10, 8.41843695e-12, 3.96824962e-10,\n",
              "        2.62690423e-13, 2.44306473e-15, 1.28762863e-18, 1.00000000e+00,\n",
              "        1.30588018e-13, 8.88687346e-09],\n",
              "       [5.31018618e-10, 3.22920524e-10, 1.00000000e+00, 2.76904017e-16,\n",
              "        1.17211376e-13, 4.35576872e-21, 7.86805170e-12, 7.62092682e-17,\n",
              "        3.09579734e-14, 1.00642538e-15],\n",
              "       [2.84942001e-11, 1.00000000e+00, 2.17224745e-08, 2.07375228e-13,\n",
              "        8.13979284e-09, 3.03355049e-11, 9.25880594e-10, 1.07278577e-08,\n",
              "        2.44132679e-08, 4.06187389e-10],\n",
              "       [1.00000000e+00, 3.00668882e-19, 8.64200188e-17, 1.54930390e-14,\n",
              "        5.94286998e-15, 1.84584725e-14, 2.35400566e-09, 2.07279317e-15,\n",
              "        3.97187606e-14, 5.33982242e-14],\n",
              "       [2.29493161e-12, 3.25377095e-12, 4.14865299e-13, 2.48484156e-16,\n",
              "        9.99999762e-01, 3.86251496e-14, 5.96042475e-13, 1.19204627e-13,\n",
              "        8.50384138e-11, 2.11475196e-07],\n",
              "       [9.48203408e-12, 1.00000000e+00, 9.97714480e-11, 1.25927245e-14,\n",
              "        7.84381560e-10, 2.00016693e-13, 2.47159931e-11, 1.15447971e-08,\n",
              "        3.63583719e-09, 9.30793290e-12],\n",
              "       [2.44620283e-16, 6.73833038e-12, 9.71312942e-14, 5.78644671e-15,\n",
              "        9.99922276e-01, 1.04018974e-10, 4.87874274e-14, 2.42733906e-11,\n",
              "        7.55417350e-05, 2.17557999e-06],\n",
              "       [1.61349122e-16, 9.71483369e-16, 1.19398606e-11, 4.22104258e-15,\n",
              "        3.32181969e-07, 3.78886918e-14, 3.80238836e-20, 5.22273567e-17,\n",
              "        1.43716117e-09, 9.99999642e-01],\n",
              "       [2.35046960e-09, 6.44682388e-16, 5.88559785e-15, 6.93754839e-15,\n",
              "        3.09653171e-12, 9.85377252e-01, 1.46216713e-02, 3.51519624e-18,\n",
              "        1.03325431e-06, 7.33655767e-08],\n",
              "       [4.18437386e-17, 3.38283411e-18, 3.40867862e-17, 8.90835474e-13,\n",
              "        1.94916353e-07, 6.40447633e-17, 2.27241418e-22, 3.37604469e-08,\n",
              "        8.95207519e-10, 9.99999762e-01]], dtype=float32)"
            ]
          },
          "metadata": {
            "tags": []
          },
          "execution_count": 20
        }
      ]
    },
    {
      "cell_type": "code",
      "metadata": {
        "id": "RPhIRFoPDDef",
        "colab_type": "code",
        "colab": {
          "base_uri": "https://localhost:8080/",
          "height": 54
        },
        "outputId": "af84d019-af26-424c-db90-488ce0cdff70"
      },
      "source": [
        "np.argmax(prediction,axis =1)"
      ],
      "execution_count": null,
      "outputs": [
        {
          "output_type": "execute_result",
          "data": {
            "text/plain": [
              "array([7, 2, 1, 0, 4, 1, 4, 9, 5, 9])"
            ]
          },
          "metadata": {
            "tags": []
          },
          "execution_count": 21
        }
      ]
    },
    {
      "cell_type": "code",
      "metadata": {
        "id": "ILduaKX-ZdWM",
        "colab_type": "code",
        "colab": {
          "base_uri": "https://localhost:8080/",
          "height": 1000
        },
        "outputId": "085a80de-4a3e-4145-c080-2b7255dfdc2e"
      },
      "source": [
        "#cross checking prediction with images\n",
        "X_t = X_test.reshape(X_test.shape[0], img_h,img_w)\n",
        "\n",
        "for image in range(10):\n",
        "  plt.imshow(X_t[image],cmap = 'Greys')\n",
        "  plt.show()"
      ],
      "execution_count": null,
      "outputs": [
        {
          "output_type": "display_data",
          "data": {
            "image/png": "[encoded data removed]",
            "text/plain": [
              "<Figure size 432x288 with 1 Axes>"
            ]
          },
          "metadata": {
            "tags": [],
            "needs_background": "light"
          }
        },
        {
          "output_type": "display_data",
          "data": {
            "image/png": "[encoded data removed]",
            "text/plain": [
              "<Figure size 432x288 with 1 Axes>"
            ]
          },
          "metadata": {
            "tags": [],
            "needs_background": "light"
          }
        },
        {
          "output_type": "display_data",
          "data": {
            "image/png": "[encoded data removed]",
            "text/plain": [
              "<Figure size 432x288 with 1 Axes>"
            ]
          },
          "metadata": {
            "tags": [],
            "needs_background": "light"
          }
        },
        {
          "output_type": "display_data",
          "data": {
            "image/png": "[encoded data removed]",
            "text/plain": [
              "<Figure size 432x288 with 1 Axes>"
            ]
          },
          "metadata": {
            "tags": [],
            "needs_background": "light"
          }
        },
        {
          "output_type": "display_data",
          "data": {
            "image/png": "[encoded data removed]",
            "text/plain": [
              "<Figure size 432x288 with 1 Axes>"
            ]
          },
          "metadata": {
            "tags": [],
            "needs_background": "light"
          }
        },
        {
          "output_type": "display_data",
          "data": {
            "image/png": "[encoded data removed]",
            "text/plain": [
              "<Figure size 432x288 with 1 Axes>"
            ]
          },
          "metadata": {
            "tags": [],
            "needs_background": "light"
          }
        },
        {
          "output_type": "display_data",
          "data": {
            "image/png": "[encoded data removed]",
            "text/plain": [
              "<Figure size 432x288 with 1 Axes>"
            ]
          },
          "metadata": {
            "tags": [],
            "needs_background": "light"
          }
        },
        {
          "output_type": "display_data",
          "data": {
            "image/png": "[encoded data removed]",
            "text/plain": [
              "<Figure size 432x288 with 1 Axes>"
            ]
          },
          "metadata": {
            "tags": [],
            "needs_background": "light"
          }
        },
        {
          "output_type": "display_data",
          "data": {
            "image/png": "[encoded data removed]",
            "text/plain": [
              "<Figure size 432x288 with 1 Axes>"
            ]
          },
          "metadata": {
            "tags": [],
            "needs_background": "light"
          }
        },
        {
          "output_type": "display_data",
          "data": {
            "image/png": "[encoded data removed]",
            "text/plain": [
              "<Figure size 432x288 with 1 Axes>"
            ]
          },
          "metadata": {
            "tags": [],
            "needs_background": "light"
          }
        }
      ]
    },
    {
      "cell_type": "code",
      "metadata": {
        "id": "HQ1RvhY7aHUP",
        "colab_type": "code",
        "colab": {}
      },
      "source": [
        ""
      ],
      "execution_count": null,
      "outputs": []
    }
  ]
}